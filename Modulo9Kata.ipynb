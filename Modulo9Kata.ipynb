{
 "cells": [
  {
   "cell_type": "markdown",
   "metadata": {},
   "source": [
    "## Ejerecicio 1: Funciones con argumentos"
   ]
  },
  {
   "cell_type": "code",
   "execution_count": 49,
   "metadata": {},
   "outputs": [],
   "source": [
    "#funcion para leer tres tanques de gasolina\n",
    "def reporte(tanque_1, tanque_2, tanque_3):\n",
    "    promedio = (tanque_1+tanque_2+tanque_3)/3\n",
    "    return f\"\"\"\n",
    "    Reporte total del combustible\n",
    "    Primer tanque : {tanque_1}% \n",
    "    Segundo tanque: {tanque_2}%\n",
    "    Tercer tanque: {tanque_3}%\n",
    "    Promedio total: {promedio}%\"\"\"\n"
   ]
  },
  {
   "cell_type": "code",
   "execution_count": 50,
   "metadata": {},
   "outputs": [
    {
     "name": "stdout",
     "output_type": "stream",
     "text": [
      "\n",
      "    Reporte total del combustible\n",
      "    Primer tanque : 50% \n",
      "    Segundo tanque: 44%\n",
      "    Tercer tanque: 80%\n",
      "    Promedio total: 58.0%\n"
     ]
    }
   ],
   "source": [
    "#Creamos funcion que genere el reporte\n",
    "print(reporte(50,44,80))\n"
   ]
  },
  {
   "cell_type": "code",
   "execution_count": 51,
   "metadata": {},
   "outputs": [],
   "source": [
    "#Creando funcion de promedio\n",
    "def calcular_promedio(*valores):\n",
    "    cantidad_tanques=len(valores)\n",
    "    sumatoria =0\n",
    "    for itera in valores:\n",
    "        int_porentaje = int(itera)\n",
    "        sumatoria+=int_porentaje\n",
    "    promedio=(sumatoria/cantidad_tanques)\n",
    "    return promedio"
   ]
  },
  {
   "cell_type": "code",
   "execution_count": 52,
   "metadata": {},
   "outputs": [
    {
     "name": "stdout",
     "output_type": "stream",
     "text": [
      "Reporte total del combustible \n",
      "    Primer tanque : 88% \n",
      "    Segundo tanque: 99%\n",
      "    Tercer tanque: 15%, \n",
      "    Promedio total: 67.33333333333333%\n"
     ]
    }
   ],
   "source": [
    "#Actualizando funcion de informes\n",
    "def generar_reporte(tanque1, tanque2, tanque3):\n",
    "    print(f\"\"\"Reporte total del combustible \n",
    "    Primer tanque : {tanque1}% \n",
    "    Segundo tanque: {tanque2}%\n",
    "    Tercer tanque: {tanque3}%, \n",
    "    Promedio total: {calcular_promedio(tanque1,tanque2,tanque3)}%\"\"\")\n",
    "\n",
    "generar_reporte(88,99,15)"
   ]
  },
  {
   "cell_type": "markdown",
   "metadata": {},
   "source": [
    "## Ejercicio 2 Trabajando con argumentos de palabras clave"
   ]
  },
  {
   "cell_type": "code",
   "execution_count": 53,
   "metadata": {},
   "outputs": [
    {
     "name": "stdout",
     "output_type": "stream",
     "text": [
      "\n",
      "    Destino de la mision: Luna\n",
      "    Tiempo de prelanzamiento : 5 horas\n",
      "    Duración : 44 horas    \n",
      "    Tanque interno:  100% de capacidad\n",
      "    Tanque externo: 95% de capacidad\n",
      "    \n"
     ]
    }
   ],
   "source": [
    "#Creamos funcion que genera un reporte completo\n",
    "def crear_informe(hr_prelanzamiento, tiempo_vuelo, destino, tanque_externo, tanque_interno):\n",
    "    return f\"\"\"\n",
    "    Destino de la mision: {destino}\n",
    "    Tiempo de prelanzamiento : {hr_prelanzamiento} horas\n",
    "    Duración : {tiempo_vuelo} horas    \n",
    "    Tanque interno:  {tanque_interno}% de capacidad\n",
    "    Tanque externo: {tanque_externo}% de capacidad\n",
    "    \"\"\"\n",
    "\n",
    "print(crear_informe(5, 44, \"Luna\", 95,100))"
   ]
  },
  {
   "cell_type": "code",
   "execution_count": 54,
   "metadata": {},
   "outputs": [
    {
     "name": "stdout",
     "output_type": "stream",
     "text": [
      "\n",
      "    Destino de la mision: Luna\n",
      "    Tiempo de prelanzamiento : 5 horas\n",
      "    Duración : 44 horas\n",
      "    Periodos de espera: 80 minutos\n",
      "    Tanque interno:  100% de capacidad\n",
      "    Tanque externo: 95% de capacidad\n",
      "    Reserva adicional:  190000 litros de combustible\n",
      "    \n"
     ]
    }
   ],
   "source": [
    "#Creamos funcion que recibe argumentos con variable y argumentos con palabra clave variable\n",
    "def informe_dinamico(hr_prelanzamiento, tiempo_vuelo, tanque_externo, tanque_interno, destino,  *minutes, **tanques):\n",
    "    total_minutes=sum(minutes)\n",
    "        \n",
    "    return f\"\"\"\n",
    "    Destino de la mision: {destino}\n",
    "    Tiempo de prelanzamiento : {hr_prelanzamiento} horas\n",
    "    Duración : {tiempo_vuelo} horas\n",
    "    Periodos de espera: {total_minutes} minutos\n",
    "    Tanque interno:  {tanque_interno}% de capacidad\n",
    "    Tanque externo: {tanque_externo}% de capacidad\n",
    "    Reserva adicional:  {suma_reservas(tanques)} litros de combustible\n",
    "    \"\"\"\n",
    "    \n",
    "\n",
    "def suma_reservas (reservas):\n",
    "    total_reserva = 0\n",
    "    for value in reservas.values():\n",
    "        total_reserva = total_reserva+value\n",
    "    return total_reserva\n",
    "   \n",
    "\n",
    "print(informe_dinamico(5,44, 95,100,\"Luna\", 8,10,22,40, primario=20000, secundario=40000, reserva=30000, auxiliar = 100000))"
   ]
  },
  {
   "cell_type": "code",
   "execution_count": 55,
   "metadata": {},
   "outputs": [
    {
     "name": "stdout",
     "output_type": "stream",
     "text": [
      "\n",
      "    Destino de la mision: Luna\n",
      "    Tiempo de prelanzamiento : 5 horas\n",
      "    Duración : 44 horas\n",
      "    Periodos de espera: 80 minutos\n",
      "    Tanque interno:  100% de capacidad\n",
      "    Tanque externo: 95% de capacidad\n",
      "    Reserva adicional:  190000 litros de combustible\n",
      "    Tanque primario : 20000 litros\n",
      "Tanque secundario : 40000 litros\n",
      "Tanque reserva : 30000 litros\n",
      "Tanque auxiliar : 100000 litros\n",
      "\n"
     ]
    }
   ],
   "source": [
    "#Modificando función para desglozar argumentos con palabra clave variable\n",
    "def informe_dinamico(hr_prelanzamiento, tiempo_vuelo, tanque_externo, tanque_interno, destino,  *minutes, **tanques):\n",
    "    total_minutes=sum(minutes)\n",
    "        \n",
    "    mensaje = f\"\"\"\n",
    "    Destino de la mision: {destino}\n",
    "    Tiempo de prelanzamiento : {hr_prelanzamiento} horas\n",
    "    Duración : {tiempo_vuelo} horas\n",
    "    Periodos de espera: {total_minutes} minutos\n",
    "    Tanque interno:  {tanque_interno}% de capacidad\n",
    "    Tanque externo: {tanque_externo}% de capacidad\n",
    "    Reserva adicional:  {suma_reservas(tanques)} litros de combustible\n",
    "    \"\"\"  \n",
    "\n",
    "    for tanque in tanques.items():\n",
    "        mensaje = mensaje + f\"Tanque {tanque[0]} : {tanque[1]} litros\\n\"\n",
    "    return mensaje\n",
    "\n",
    "\n",
    "def suma_reservas (reservas):\n",
    "    total_reserva = 0\n",
    "    for value in reservas.values():\n",
    "        total_reserva = total_reserva+value\n",
    "    return total_reserva\n",
    "   \n",
    "\n",
    "print(informe_dinamico(5,44, 95,100,\"Luna\", 8,10,22,40, primario=20000, secundario=40000, reserva=30000, auxiliar = 100000))"
   ]
  }
 ],
 "metadata": {
  "interpreter": {
   "hash": "1f072d1a8a0ca0c926ef9fff0a69ca001722df83c16a3da285a01987dc95e908"
  },
  "kernelspec": {
   "display_name": "Python 3.10.2 ('env': venv)",
   "language": "python",
   "name": "python3"
  },
  "language_info": {
   "codemirror_mode": {
    "name": "ipython",
    "version": 3
   },
   "file_extension": ".py",
   "mimetype": "text/x-python",
   "name": "python",
   "nbconvert_exporter": "python",
   "pygments_lexer": "ipython3",
   "version": "3.10.2"
  },
  "orig_nbformat": 4
 },
 "nbformat": 4,
 "nbformat_minor": 2
}
