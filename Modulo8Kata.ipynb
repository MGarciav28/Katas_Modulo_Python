{
 "cells": [
  {
   "cell_type": "markdown",
   "metadata": {},
   "source": [
    "## Ejercicio 1 Creación de diccionarios de Python"
   ]
  },
  {
   "cell_type": "code",
   "execution_count": null,
   "metadata": {},
   "outputs": [],
   "source": [
    "#Creando dicionario planet\n",
    "planet= {\n",
    "    'name':'Mars',\n",
    "    'moons' : 2\n",
    "}\n",
    "\n",
    "#Mostrando los datos en el dicionario\n",
    "print(f\" El planeta {planet['name']} tiene {planet['moons']} lunas\")\n",
    "\n",
    "#Agegando dos nuevas claves al dicionario\n",
    "planet.update({\n",
    "    'polar':6752, 'equatorial':6792\n",
    "})\n",
    "\n",
    "#Imprimiendo la circunferencia polar\n",
    "print(f\"El planeta {planet['name']} tiene una circunfernecia ecuatorial de {planet['equatorial']}\")"
   ]
  },
  {
   "cell_type": "markdown",
   "metadata": {},
   "source": [
    "## Ejercicio 2 Programación dinámica con diccionarios"
   ]
  },
  {
   "cell_type": "code",
   "execution_count": null,
   "metadata": {},
   "outputs": [],
   "source": [
    "#Creando nuevo diccionario\n",
    "planet_moons = {\n",
    "    'mercury': 0,\n",
    "    'venus': 0,\n",
    "    'earth': 1,\n",
    "    'mars': 2,\n",
    "    'jupiter': 79,\n",
    "    'saturn': 82,\n",
    "    'uranus': 27,\n",
    "    'neptune': 14,\n",
    "    'pluto': 5,\n",
    "    'haumea': 2,\n",
    "    'makemake': 1,\n",
    "    'eris': 1\n",
    "}"
   ]
  },
  {
   "cell_type": "code",
   "execution_count": 23,
   "metadata": {},
   "outputs": [
    {
     "name": "stdout",
     "output_type": "stream",
     "text": [
      "dict_values([0, 0, 1, 2, 79, 82, 27, 14, 5, 2, 1, 1])\n",
      "12\n"
     ]
    }
   ],
   "source": [
    "#Codigo para determinar el numero de lunas\n",
    "moons=planet_moons.values()\n",
    "planets=len(moons)\n",
    "print(moons)\n",
    "print(planets)"
   ]
  },
  {
   "cell_type": "code",
   "execution_count": 27,
   "metadata": {},
   "outputs": [
    {
     "name": "stdout",
     "output_type": "stream",
     "text": [
      "El total de lunas en el sistema  es 214\n",
      "El promedio de lunas por planeta es de: 17.833333333333332\n"
     ]
    }
   ],
   "source": [
    "#Sumando el número de lunas\n",
    "total_lunas=0\n",
    "promedio_lunas=0\n",
    "for moon_i in moons:\n",
    "    total_lunas=total_lunas+moon_i\n",
    "print(f\"El total de lunas en el sistema  es {total_lunas}\")\n",
    "\n",
    "#Promediando el núemro de lunas\n",
    "promedio_lunas=total_lunas/planets\n",
    "print(f\"El promedio de lunas por planeta es de: {promedio_lunas}\")"
   ]
  }
 ],
 "metadata": {
  "interpreter": {
   "hash": "1f072d1a8a0ca0c926ef9fff0a69ca001722df83c16a3da285a01987dc95e908"
  },
  "kernelspec": {
   "display_name": "Python 3.10.2 ('env': venv)",
   "language": "python",
   "name": "python3"
  },
  "language_info": {
   "codemirror_mode": {
    "name": "ipython",
    "version": 3
   },
   "file_extension": ".py",
   "mimetype": "text/x-python",
   "name": "python",
   "nbconvert_exporter": "python",
   "pygments_lexer": "ipython3",
   "version": "3.10.2"
  },
  "orig_nbformat": 4
 },
 "nbformat": 4,
 "nbformat_minor": 2
}
