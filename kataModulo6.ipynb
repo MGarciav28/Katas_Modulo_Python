{
 "cells": [
  {
   "cell_type": "markdown",
   "metadata": {},
   "source": [
    "## Ejercicio 1: Crear y usar listas"
   ]
  },
  {
   "cell_type": "code",
   "execution_count": 3,
   "metadata": {},
   "outputs": [
    {
     "name": "stdout",
     "output_type": "stream",
     "text": [
      "['Mercurio', 'Venus', 'Tierra', 'Marte', 'Jupiter', 'Saturno', 'Urano', 'Neptuno']\n",
      "8\n"
     ]
    }
   ],
   "source": [
    "#Creando lista de planetas y contando sus elementos\n",
    "lista_planetas= ['Mercurio', 'Venus', 'Tierra', 'Marte', 'Jupiter', 'Saturno', 'Urano', 'Neptuno']\n",
    "print(lista_planetas)\n",
    "print(len(lista_planetas))"
   ]
  },
  {
   "cell_type": "code",
   "execution_count": 12,
   "metadata": {},
   "outputs": [
    {
     "name": "stdout",
     "output_type": "stream",
     "text": [
      "Pluton\n"
     ]
    }
   ],
   "source": [
    "#Agregando Pluton a la lista y mostrar que ya se encuentra\n",
    "lista_planetas.append('Pluton')\n",
    "print(lista_planetas[-1])"
   ]
  },
  {
   "cell_type": "markdown",
   "metadata": {},
   "source": [
    "## Ejercicio 2 Trabajando con datos en la lista"
   ]
  },
  {
   "cell_type": "code",
   "execution_count": 21,
   "metadata": {},
   "outputs": [
    {
     "name": "stdout",
     "output_type": "stream",
     "text": [
      "Usted escogió el planeta: TIERRA\n",
      "El planeta TIERRA se encuentra en la posicion 3\n",
      "Los planetas ['MERCURIO', 'VENUS'] se encuentran más cerca al sol que TIERRA\n",
      "Los planetas ['MARTE', 'JUPITER', 'SATURNO', 'URANO', 'NEPTUNO'] se encuentran más lejos del sol que TIERRA\n"
     ]
    }
   ],
   "source": [
    "#Creando nueva lista de planetas\n",
    "planetas = ['MERCURIO', 'VENUS', 'TIERRA', 'MARTE', 'JUPITER', 'SATURNO', 'URANO', 'NEPTUNO']\n",
    "\n",
    "#Solicitamos al usuario el nombre de un planeta\n",
    "planeta_usuario=input().upper()\n",
    "print(\"Usted escogió el planeta: \" + planeta_usuario)\n",
    "\n",
    "#Buscar el planeta ingresado\n",
    "planeta_index=planetas.index(planeta_usuario)\n",
    "print( \"El planeta {0} se encuentra en la posicion {1}\".format(planeta_usuario, planeta_index+1))\n",
    "\n",
    "#Mostrar planetas mas cercanos que el seleccionado\n",
    "planetas_cercanos=planetas[:planeta_index]\n",
    "print(\"Los planetas {0} se encuentran más cerca al sol que {1}\".format(planetas_cercanos, planeta_usuario))\n",
    "\n",
    "#Mostrar planetas más alejados del sol que el planeta elegido\n",
    "planetas_lejanos=planetas[planeta_index+1:]\n",
    "print(\"Los planetas {0} se encuentran más lejos del sol que {1}\".format(planetas_lejanos, planeta_usuario))"
   ]
  }
 ],
 "metadata": {
  "interpreter": {
   "hash": "a7f7bf6e294e5d2489f88d425ace11a197b461158df0335d6f5d57f2f7edadc8"
  },
  "kernelspec": {
   "display_name": "Python 3.10.2 64-bit",
   "language": "python",
   "name": "python3"
  },
  "language_info": {
   "codemirror_mode": {
    "name": "ipython",
    "version": 3
   },
   "file_extension": ".py",
   "mimetype": "text/x-python",
   "name": "python",
   "nbconvert_exporter": "python",
   "pygments_lexer": "ipython3",
   "version": "3.10.2"
  },
  "orig_nbformat": 4
 },
 "nbformat": 4,
 "nbformat_minor": 2
}
