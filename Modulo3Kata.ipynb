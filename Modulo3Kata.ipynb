{
 "cells": [
  {
   "cell_type": "markdown",
   "metadata": {},
   "source": [
    "## Declaraciones if, else  y elif\n",
    "\n",
    "Programa que muestra una advertencia si un asteroide se acerca a la tierra con una velocidad mayor a 25 km/segundo"
   ]
  },
  {
   "cell_type": "code",
   "execution_count": 4,
   "metadata": {},
   "outputs": [
    {
     "name": "stdout",
     "output_type": "stream",
     "text": [
      "Peligro!! Un asteroide viene en camino\n"
     ]
    }
   ],
   "source": [
    "#Un asteroide se acerca a una velocidad de 49 km/s\n",
    "velocidad = 49\n",
    "if velocidad >25:\n",
    "    print(\"Peligro!! Un asteroide viene en camino\")\n",
    "else:\n",
    "    print(\"Por el momento no hay peligro\")"
   ]
  },
  {
   "cell_type": "markdown",
   "metadata": {},
   "source": [
    "Si un asteroide entra a la tierra a mas de 20 km/s se puede ver desde la tierra"
   ]
  },
  {
   "cell_type": "code",
   "execution_count": 5,
   "metadata": {},
   "outputs": [
    {
     "name": "stdout",
     "output_type": "stream",
     "text": [
      "El cielo esta despejado\n"
     ]
    }
   ],
   "source": [
    "#Un asteroide viene a 19km/s\n",
    "velocidad = 19\n",
    "if velocidad==20:\n",
    "    print(\"Voltea al cielo para ver la luz\")    \n",
    "elif velocidad>20:\n",
    "    print(\"Voltea al cielo para ver la luz\")\n",
    "elif velocidad<20:\n",
    "    print(\"El cielo esta despejado\")\n"
   ]
  },
  {
   "cell_type": "markdown",
   "metadata": {},
   "source": [
    "## Operadores and y or\n",
    "Los asteroides de menos de 25 metros en su dimension más grande son inofensivos.\n",
    "\n",
    "Los asteroides entre 25 y 1000 metros causarian mucho daño a la tierra."
   ]
  },
  {
   "cell_type": "code",
   "execution_count": 6,
   "metadata": {},
   "outputs": [
    {
     "name": "stdout",
     "output_type": "stream",
     "text": [
      "Hay un asteroide pero estamos a salvo\n"
     ]
    }
   ],
   "source": [
    "velocidad = 10\n",
    "dimension = 20\n",
    "\n",
    "if velocidad>=25 and dimension>=25:\n",
    "    print(\"Alerta, un asteroide peligroso viene en camino\")\n",
    "elif velocidad>=20 and velocidad<25:\n",
    "    print(\"Voltee al cielo, podra ver luces\")\n",
    "elif velocidad<20 or dimension<25:\n",
    "    print(\"Hay un asteroide pero estamos a salvo\")\n",
    "else:\n",
    "    print(\"El cielo esta despejado\")\n",
    "\n",
    "\n"
   ]
  }
 ],
 "metadata": {
  "interpreter": {
   "hash": "a7f7bf6e294e5d2489f88d425ace11a197b461158df0335d6f5d57f2f7edadc8"
  },
  "kernelspec": {
   "display_name": "Python 3.10.2 64-bit",
   "language": "python",
   "name": "python3"
  },
  "language_info": {
   "codemirror_mode": {
    "name": "ipython",
    "version": 3
   },
   "file_extension": ".py",
   "mimetype": "text/x-python",
   "name": "python",
   "nbconvert_exporter": "python",
   "pygments_lexer": "ipython3",
   "version": "3.10.2"
  },
  "orig_nbformat": 4
 },
 "nbformat": 4,
 "nbformat_minor": 2
}
